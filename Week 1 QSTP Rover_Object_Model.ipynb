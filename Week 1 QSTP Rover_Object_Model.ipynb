{
  "cells": [
    {
      "cell_type": "markdown",
      "metadata": {
        "id": "view-in-github",
        "colab_type": "text"
      },
      "source": [
        "<a href=\"https://colab.research.google.com/github/rishabhswm/Rishabh-/blob/main/Week%201%20QSTP%20Rover_Object_Model.ipynb\" target=\"_parent\"><img src=\"https://colab.research.google.com/assets/colab-badge.svg\" alt=\"Open In Colab\"/></a>"
      ]
    },
    {
      "cell_type": "markdown",
      "id": "2f6df023",
      "metadata": {
        "id": "2f6df023"
      },
      "source": [
        "# Rover Object Model\n",
        "This notebook contains the solution for the Rover Object Model assignment."
      ]
    },
    {
      "cell_type": "code",
      "execution_count": 2,
      "id": "0c189e19",
      "metadata": {
        "id": "0c189e19"
      },
      "outputs": [],
      "source": [
        "class Position:\n",
        "    \"\"\"\n",
        "    Class to represent a position on the grid.\n",
        "\n",
        "    Attributes:\n",
        "        x (int): X-coordinate.\n",
        "        y (int): Y-coordinate.\n",
        "        traversable (bool): Whether the position is traversable or not.\n",
        "    \"\"\"\n",
        "\n",
        "    def __init__(self, x, y, traversable=True):\n",
        "        self.x = x\n",
        "        self.y = y\n",
        "        self.traversable = traversable\n",
        "\n",
        "    def __eq__(self, other):\n",
        "        return self.x == other.x and self.y == other.y"
      ]
    },
    {
      "cell_type": "code",
      "execution_count": 3,
      "id": "63fddab7",
      "metadata": {
        "id": "63fddab7"
      },
      "outputs": [],
      "source": [
        "class Map:\n",
        "    \"\"\"\n",
        "    Class to represent the map grid using 2D array of Position objects.\n",
        "\n",
        "    Attributes:\n",
        "        grid (list): 2D list of Position objects.\n",
        "    \"\"\"\n",
        "\n",
        "    def __init__(self, width, height):\n",
        "        self.grid = [[Position(x, y) for y in range(height)] for x in range(width)]\n",
        "\n",
        "    def is_valid_position(self, x, y):\n",
        "        \"\"\"Check if the position is within bounds and traversable.\"\"\"\n",
        "        return (0 <= x < len(self.grid) and\n",
        "                0 <= y < len(self.grid[0]) and\n",
        "                self.grid[x][y].traversable)\n",
        "\n",
        "    def set_obstacle(self, x, y):\n",
        "        \"\"\"Mark a position as non-traversable.\"\"\"\n",
        "        if self.is_valid_position(x, y):\n",
        "            self.grid[x][y].traversable = False\n",
        "\n",
        "    def get_position(self, x, y):\n",
        "        \"\"\"Return the Position object at (x, y).\"\"\"\n",
        "        return self.grid[x][y]"
      ]
    },
    {
      "cell_type": "code",
      "execution_count": 4,
      "id": "2d1f5789",
      "metadata": {
        "id": "2d1f5789"
      },
      "outputs": [],
      "source": [
        "from collections import deque\n",
        "\n",
        "class Rover:\n",
        "    \"\"\"\n",
        "    Class to represent the rover.\n",
        "\n",
        "    Attributes:\n",
        "        battery (float): Battery percentage (starts at 100).\n",
        "        current_position (Position): Current position of the rover.\n",
        "    \"\"\"\n",
        "\n",
        "    def __init__(self, start_position):\n",
        "        self.battery = 100.0\n",
        "        self.current_position = start_position\n",
        "\n",
        "    def move(self, destination, map_obj):\n",
        "        \"\"\"\n",
        "        Move the rover to a destination position on the map.\n",
        "\n",
        "        Uses BFS to find the shortest path.\n",
        "        Returns:\n",
        "            int: Number of steps taken, or -1 if not reachable.\n",
        "        \"\"\"\n",
        "        directions = [(-1, 0), (1, 0), (0, -1), (0, 1)]  # Non-diagonal moves only\n",
        "        visited = set()\n",
        "        queue = deque([(self.current_position.x, self.current_position.y, 0)])\n",
        "\n",
        "        while queue:\n",
        "            x, y, steps = queue.popleft()\n",
        "            if (x, y) == (destination.x, destination.y):\n",
        "                battery_used = steps * 10\n",
        "                if battery_used > self.battery:\n",
        "                    return -1\n",
        "                self.battery -= battery_used\n",
        "                self.current_position = destination\n",
        "                return steps\n",
        "\n",
        "            if (x, y) in visited:\n",
        "                continue\n",
        "            visited.add((x, y))\n",
        "\n",
        "            for dx, dy in directions:\n",
        "                nx, ny = x + dx, y + dy\n",
        "                if map_obj.is_valid_position(nx, ny):\n",
        "                    queue.append((nx, ny, steps + 1))\n",
        "\n",
        "        return -1  # destination not reachable"
      ]
    },
    {
      "cell_type": "code",
      "execution_count": 5,
      "id": "1238330b",
      "metadata": {
        "colab": {
          "base_uri": "https://localhost:8080/"
        },
        "id": "1238330b",
        "outputId": "57540eeb-e1e1-4b24-dc5e-9e4a4ebecaaf"
      },
      "outputs": [
        {
          "output_type": "stream",
          "name": "stdout",
          "text": [
            "Steps taken: 8\n",
            "Remaining battery: 20.0\n"
          ]
        }
      ],
      "source": [
        "# Example usage:\n",
        "# Create map of 5x5\n",
        "mars_map = Map(5, 5)\n",
        "\n",
        "# Add obstacles\n",
        "mars_map.set_obstacle(1, 2)\n",
        "mars_map.set_obstacle(2, 2)\n",
        "\n",
        "# Set start and end positions\n",
        "start = mars_map.get_position(0, 0)\n",
        "end = mars_map.get_position(4, 4)\n",
        "\n",
        "# Create rover\n",
        "rover = Rover(start)\n",
        "\n",
        "# Move to destination\n",
        "steps_taken = rover.move(end, mars_map)\n",
        "print(\"Steps taken:\", steps_taken)\n",
        "print(\"Remaining battery:\", rover.battery)"
      ]
    }
  ],
  "metadata": {
    "colab": {
      "provenance": [],
      "include_colab_link": true
    },
    "language_info": {
      "name": "python"
    },
    "kernelspec": {
      "name": "python3",
      "display_name": "Python 3"
    }
  },
  "nbformat": 4,
  "nbformat_minor": 5
}