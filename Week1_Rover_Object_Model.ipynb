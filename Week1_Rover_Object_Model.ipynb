{
  "cells": [
    {
      "cell_type": "markdown",
      "metadata": {
        "id": "view-in-github",
        "colab_type": "text"
      },
      "source": [
        "<a href=\"https://colab.research.google.com/github/rishabhswm/Rishabh-/blob/main/Week1_Rover_Object_Model.ipynb\" target=\"_parent\"><img src=\"https://colab.research.google.com/assets/colab-badge.svg\" alt=\"Open In Colab\"/></a>"
      ]
    },
    {
      "cell_type": "markdown",
      "id": "2f6df023",
      "metadata": {
        "id": "2f6df023"
      },
      "source": [
        "Rover Object Model"
      ]
    },
    {
      "cell_type": "code",
      "source": [
        "class Position:\n",
        "    def __init__(self, x, y, traversable=True):\n",
        "        self.x = x\n",
        "        self.y = y\n",
        "        self.traversable = traversable\n",
        "\n",
        "    def __eq__(self, other):\n",
        "        return self.x == other.x and self.y == other.y\n",
        "class Map:\n",
        "    def __init__(self, width, height):\n",
        "        self.grid = [[Position(x, y) for y in range(height)] for x in range(width)]\n",
        "\n",
        "    def is_valid_position(self, x, y):\n",
        "\n",
        "        return (0 <= x < len(self.grid) and\n",
        "                0 <= y < len(self.grid[0]) and\n",
        "                self.grid[x][y].traversable)\n",
        "\n",
        "    def set_obstacle(self, x, y):\n",
        "\n",
        "        if self.is_valid_position(x, y):\n",
        "            self.grid[x][y].traversable = False\n",
        "\n",
        "    def get_position(self, x, y):\n",
        "        return self.grid[x][y]\n",
        "from collections import deque\n",
        "\n",
        "class Rover:\n",
        "    def __init__(self, start_position):\n",
        "        self.battery = 100.0\n",
        "        self.current_position = start_position\n",
        "\n",
        "    def move(self, destination, map_obj):\n",
        "\n",
        "        directions = [(-1, 0), (1, 0), (0, -1), (0, 1)]  # Non-diagonal moves only\n",
        "        visited = set()\n",
        "        queue = deque([(self.current_position.x, self.current_position.y, 0)])\n",
        "\n",
        "        while queue:\n",
        "            x, y, steps = queue.popleft()\n",
        "            if (x, y) == (destination.x, destination.y):\n",
        "                battery_used = steps * 10\n",
        "                if battery_used > self.battery:\n",
        "                    return -1\n",
        "                self.battery -= battery_used\n",
        "                self.current_position = destination\n",
        "                return steps\n",
        "\n",
        "            if (x, y) in visited:\n",
        "                continue\n",
        "            visited.add((x, y))\n",
        "\n",
        "            for dx, dy in directions:\n",
        "                nx, ny = x + dx, y + dy\n",
        "                if map_obj.is_valid_position(nx, ny):\n",
        "                    queue.append((nx, ny, steps + 1))\n",
        "        return -1"
      ],
      "metadata": {
        "id": "vo5c6vCD1m3x"
      },
      "id": "vo5c6vCD1m3x",
      "execution_count": 2,
      "outputs": []
    },
    {
      "cell_type": "markdown",
      "source": [
        "Many problems I had faced while designing the code. Like the Coordinates are missing,out of bound error, the diagonal movement of the rover it should move right left forward backward and many other problems."
      ],
      "metadata": {
        "id": "8V4TwmYI2208"
      },
      "id": "8V4TwmYI2208"
    }
  ],
  "metadata": {
    "colab": {
      "provenance": [],
      "include_colab_link": true
    },
    "language_info": {
      "name": "python"
    },
    "kernelspec": {
      "name": "python3",
      "display_name": "Python 3"
    }
  },
  "nbformat": 4,
  "nbformat_minor": 5
}